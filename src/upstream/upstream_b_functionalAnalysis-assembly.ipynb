{
 "cells": [
  {
   "cell_type": "markdown",
   "id": "daf68633",
   "metadata": {},
   "source": [
    "# De novo transcript co-assembly and abundance estimation"
   ]
  },
  {
   "cell_type": "markdown",
   "id": "c83c9572",
   "metadata": {},
   "source": [
    "- De novo transcript assembly was performed in Trinity at the isoform level due to the abundance of eukaryotes\n",
    "- All paired-end reads were used for co-assembly to build transcript isoform database\n",
    "- Transcript isoform abundance was estimated per sample using Salmon\n",
    "- Identification of transcript isoforms containing coding region was performed in TransDecoder"
   ]
  },
  {
   "cell_type": "markdown",
   "id": "245695d5",
   "metadata": {},
   "source": [
    "### 1) First step in the de novo co-assembly of transcript isoforms in Trinity"
   ]
  },
  {
   "cell_type": "code",
   "execution_count": null,
   "id": "bf38247a",
   "metadata": {},
   "outputs": [],
   "source": [
    "# concatenated all forward and all reverse reads for co-assembly\n",
    "cat ../../nonhost_reads/*_1.fixed.gz > reads.ALL.left.fastq.gz\n",
    "cat ../../nonhost_reads/*_2.fixed.gz > reads.ALL.right.fastq.gz"
   ]
  },
  {
   "cell_type": "code",
   "execution_count": null,
   "id": "6ab5121f",
   "metadata": {},
   "outputs": [],
   "source": [
    "### this is heavy, so make sure the reserve enough mem!\n",
    "\n",
    "import os\n",
    "import glob\n",
    "import sys\n",
    "\n",
    "inpath = \"/home/hfm/Rumen_Microbiome_Genomics/1_Sequences_Guanhui/functionalAnalysis/trinity_2.15/\"\n",
    "outpath = \"/home/hfm/Rumen_Microbiome_Genomics/1_Sequences_Guanhui/functionalAnalysis/trinity_2.15/trinity_merged/\"\n",
    "\n",
    "SAMPLES = []\n",
    "for name in glob.glob(inpath+\"../../nonhost_reads/*_nonhost_reads_1.fixed.gz\"):\n",
    "    ID = os.path.basename(name).split(\"_nonhost_reads_1\")[0]\n",
    "    if ID not in SAMPLES:\n",
    "        SAMPLES.append(ID)\n",
    "\n",
    "\n",
    "rule all:\n",
    "    input:\n",
    "         trinity = outpath+\"Trinity.fasta.gene_trans_map\"\n",
    "\n",
    "rule trinity:\n",
    "    input:\n",
    "         read1 = inpath+\"reads.ALL.left.fastq.gz\",\n",
    "         read2 = inpath+\"reads.ALL.right.fastq.gz\"\n",
    "    output:\n",
    "         fa = outpath+\"Trinity.fasta.gene_trans_map\"\n",
    "    params:\n",
    "         dir = directory(outpath)\n",
    "    conda:\n",
    "         \"/home/hfm/yaml/trinity.yaml\"\n",
    "    shell:\"\"\"\n",
    "         Trinity --seqType fq --max_memory 2000G --CPU 256 --left {input.read1} --right {input.read2} --output {params.dir} --verbose\n",
    "         \"\"\""
   ]
  },
  {
   "cell_type": "code",
   "execution_count": null,
   "id": "952e6064",
   "metadata": {},
   "outputs": [],
   "source": [
    "import os\n",
    "import glob\n",
    "import sys\n",
    "\n",
    "inpath = \"/home/hfm/Rumen_Microbiome_Genomics/1_Sequences_Guanhui/functionalAnalysis/trinity_2.15/\"\n",
    "outpath = \"/home/hfm/Rumen_Microbiome_Genomics/1_Sequences_Guanhui/functionalAnalysis/trinity_2.15/step1/\"\n",
    "\n",
    "SAMPLES = []\n",
    "for name in glob.glob(inpath+\"../../nonhost_reads/*_non_host_reads_1.fixed.gz\"):\n",
    "    ID = os.path.basename(name).split(\"_non_host_reads_1\")[0]\n",
    "    if ID not in SAMPLES:\n",
    "        SAMPLES.append(ID)\n",
    "\n",
    "rule all:\n",
    "    input:\n",
    "         genes = expand(outpath+\"{sample}/quant.sf.genes\", sample = SAMPLES),\n",
    "         iso = expand(outpath+\"{sample}/quant.sf\", sample = SAMPLES),\n",
    "         counts = outpath+\"Trinity_salmon.isoform.counts.matrix\",\n",
    "         gene = outpath+\"Trinity_salmon_gene_transmap.isoform.counts.matrix\"\n",
    "\n",
    "\n",
    "rule abundance_est:\n",
    "    input:\n",
    "         read1 = inpath+\"../../nonhost_reads/{sample}_non_host_reads_1.fixed.gz\",\n",
    "         read2 = inpath+\"../../nonhost_reads/{sample}_non_host_reads_2.fixed.gz\"\n",
    "    output:\n",
    "         genes = outpath+\"{sample}/quant.sf.genes\",\n",
    "         iso = outpath+\"{sample}/quant.sf\"\n",
    "    params:\n",
    "         fa = outpath+\"Trinity.fasta\",\n",
    "         dir = directory(outpath+\"{sample}\")\n",
    "    conda:\n",
    "         \"/home/hfm/yaml/trinity.yaml\"\n",
    "    shell:\"\"\"\n",
    "         align_and_estimate_abundance.pl --seqType fq --left {input.read1} --right {input.read2} --transcripts {params.fa}  --est_method salmon  --aln_method bowtie2 --trinity_mode --prep_reference --output_dir {params.dir}\n",
    "         \"\"\"\n",
    "\n",
    "rule count_matrix:\n",
    "    input:\n",
    "         iso = expand(outpath+\"{sample}/quant.sf\", sample=SAMPLES)\n",
    "    output:\n",
    "         counts = outpath+\"Trinity_salmon.isoform.counts.matrix\"\n",
    "    params:\n",
    "         pre = \"Trinity_salmon\",\n",
    "         dir = directory(outpath)\n",
    "    conda:\n",
    "         \"/home/hfm/yaml/trinity.yaml\"\n",
    "    shell:\"\"\"\n",
    "         cd {params.dir}\n",
    "         abundance_estimates_to_matrix.pl --est_method salmon --gene_trans_map none --out_prefix {params.pre} --name_sample_by_basedir {input.iso}\n",
    "         \"\"\"\n",
    "\n",
    "rule count_matrix_gene:\n",
    "    input:\n",
    "         iso = expand(outpath+\"{sample}/quant.sf\", sample=SAMPLES)\n",
    "    output:\n",
    "         gene = outpath+\"Trinity_salmon_gene_transmap.isoform.counts.matrix\"\n",
    "    params:\n",
    "         pre = \"Trinity_salmon_gene_transmap\",\n",
    "         genemap = outpath+\"Trinity.fasta.gene_trans_map\",\n",
    "         dir = directory(outpath)\n",
    "    conda:\n",
    "         \"/home/hfm/yaml/trinity.yaml\"\n",
    "    shell:\"\"\"\n",
    "         cd {params.dir}\n",
    "         abundance_estimates_to_matrix.pl --est_method salmon --gene_trans_map {params.genemap} --out_prefix {params.pre} --name_sample_by_basedir {input.iso}\n",
    "         \"\"\""
   ]
  },
  {
   "cell_type": "markdown",
   "id": "0aadf988",
   "metadata": {},
   "source": [
    "### 2) Then TransDecoder was used to identify which ones contained higher-quality coding region\n",
    "- More info for TransDecoder can be found here: https://github.com/TransDecoder/TransDecoder"
   ]
  },
  {
   "cell_type": "code",
   "execution_count": null,
   "id": "0fd2c878",
   "metadata": {},
   "outputs": [],
   "source": [
    "# TransDecoder\n",
    "conda activate transdecoder\n",
    "\n",
    "# identify transcript isoforms with coding region\n",
    "TransDecoder.LongOrfs -t Trinity.fasta\n",
    "TransDecoder.Predict -t Trinity.fasta\n",
    "\n",
    "# then filter out from Trinity.fasta (sequences) and abundance table (csv) transcripts that \n",
    "# do not contain coding region or that did not pass quality assessment from TransDecoder"
   ]
  }
 ],
 "metadata": {
  "kernelspec": {
   "display_name": "tensorflow-metal-test",
   "language": "python",
   "name": "tensorflow-metal-test"
  },
  "language_info": {
   "codemirror_mode": {
    "name": "ipython",
    "version": 3
   },
   "file_extension": ".py",
   "mimetype": "text/x-python",
   "name": "python",
   "nbconvert_exporter": "python",
   "pygments_lexer": "ipython3",
   "version": "3.9.13"
  }
 },
 "nbformat": 4,
 "nbformat_minor": 5
}
